{
 "cells": [
  {
   "cell_type": "markdown",
   "metadata": {},
   "source": [
    "sudo apt install libboost-all-dev  \n",
    "git clone https://github.com/ncbi/SKESA  \n",
    "cd SKESA  \n",
    "make -f Makefile.nongs  "
   ]
  },
  {
   "cell_type": "code",
   "execution_count": 1,
   "metadata": {},
   "outputs": [],
   "source": [
    "%run ../../multibench.py"
   ]
  },
  {
   "cell_type": "code",
   "execution_count": 2,
   "metadata": {},
   "outputs": [],
   "source": [
    "from inspect import isfunction\n",
    "import os, sys\n",
    "import matplotlib.pyplot as plt\n",
    "import asciitable\n",
    "import sys\n",
    "import os\n",
    "import shutil\n",
    "import numpy as np\n",
    "import glob\n",
    "from shutil import copyfile\n",
    "import pathlib\n",
    "\n",
    "\n",
    "# Summarize numpy array if it has more than 10 elements\n",
    "np.set_printoptions(threshold=10)\n",
    "\n",
    "def clean_if_exists(path):\n",
    "    if os.path.exists(path):\n",
    "        if(os.path.isfile(path)):\n",
    "            os.remove(path)\n",
    "        else:\n",
    "            shutil.rmtree(path)\n",
    "            os.mkdir(path)\n",
    "def get_last_n_lines(string, n):\n",
    "    return \"\\n\".join(string.split(\"\\n\")[-n:])\n",
    "def create_folder_if_doesnt_exist(path):\n",
    "    if not os.path.exists(path):\n",
    "        os.makedirs(path)\n",
    "\n",
    "# Move two upper directories, import benchmark, revert cwd\n",
    "sys.path.insert(0, os.path.dirname(os.path.abspath(pathlib.Path().absolute())) + \"/..\")"
   ]
  },
  {
   "cell_type": "code",
   "execution_count": 3,
   "metadata": {},
   "outputs": [
    {
     "name": "stdout",
     "output_type": "stream",
     "text": [
      "['PNUSAL001024', 'SH14-021', 'SH14-015', 'SH12-011', 'SH12-001', '2014D-0068', 'SH14-025', 'D7322', 'SH14-004', 'MOD1_LS998', '2014D-0070', 'PNUSA000196', 'SH14-003', 'SH12-012', 'SH10-014', 'SH12-010', 'PNUSAL000870', 'SH12-006', 'D7331', 'SH14-024', 'MOD1_LS989', 'SH12-013', 'CFSAN023467', 'SH14-005', 'SH14-014', 'D7334', 'MOD1_LS996', 'SH14-013', 'SH09-29', 'SH13-003', 'SH14-009', 'SH14-016', 'SH12-004', 'SH11-001', 'SH14-027', 'SH12-005', 'SH14-011', 'PNUSA000195', 'SH13-004', 'SH14-010', 'MOD1_LS1005', 'SH14-019', 'SH14-028', 'CFSAN023469', 'MOD1_LS995', 'D7316', 'MOD1_LS1008', 'SH13-001', 'SH14-012', '2014D-0067', 'SH14-001', 'SH08-001', 'PNUSA000194', 'MOD1_LS997', 'CFSAN023464', 'PNUSAL000957', 'MOD1_LS1011', 'D7323', 'SH10-30', 'D7330', 'D7327', 'SH11-002', 'SH13-002', 'SH12-007', 'SH13-006', 'SH14-023', 'CFSAN023466', 'SH14-022', 'SH14-008', 'D7321', '2014D-0189', 'SH12-009', 'D7329', 'SH10-002', 'D7333', 'MOD1_LS1003', 'CFSAN023471', 'SH14-017', 'MOD1_LS1009', 'MOD1_LS994', 'MOD1_LS1004', 'SH12-003', 'SH14-018', 'D7324', 'SH12-002', 'SH12-014', 'D7328', 'D7319', 'MOD1_LS1010', 'CFSAN023463', 'SH14-006', 'SH13-007', 'PNUSAL000730', 'CFSAN023470', 'SH10-015', 'MOD1_LS1006', 'SH14-002', 'SH14-007', 'CFSAN023465', 'SH13-005', 'MOD1_LS985', 'MOD1_LS982', 'SH13-008', 'CFSAN002349', 'SH14-026', 'MOD1_LS1000', 'SH14-020', 'CFSAN023468', 'SH10-001', 'D5663', 'SH12-008', 'D7320']\n"
     ]
    }
   ],
   "source": [
    "input_samples = [os.path.basename(f) for f in glob.glob('input/*_1.fastq.gz')]\n",
    "input_samples = [f.replace('_1.fastq.gz','') for f in input_samples]\n",
    "print(input_samples)"
   ]
  },
  {
   "cell_type": "code",
   "execution_count": 4,
   "metadata": {},
   "outputs": [
    {
     "data": {
      "text/plain": [
       "[1, 4, 7, 10, 13, 16, 19]"
      ]
     },
     "execution_count": 4,
     "metadata": {},
     "output_type": "execute_result"
    }
   ],
   "source": [
    "sample_sizes = list(range(1, 20, 3))\n",
    "sample_sizes"
   ]
  },
  {
   "cell_type": "code",
   "execution_count": 5,
   "metadata": {
    "scrolled": true
   },
   "outputs": [
    {
     "data": {
      "application/vnd.jupyter.widget-view+json": {
       "model_id": "afc6d1244cb34237b5a9a700cdde5871",
       "version_major": 2,
       "version_minor": 0
      },
      "text/plain": [
       "HBox(children=(FloatProgress(value=0.0, max=700.0), HTML(value='')))"
      ]
     },
     "metadata": {},
     "output_type": "display_data"
    }
   ],
   "source": [
    "def reset_func():\n",
    "    for file in glob.glob(\"outputs/*\"):\n",
    "        clean_if_exists(file)\n",
    "    \n",
    "def benchmark_list_to_results(benchmark_firsts_list):\n",
    "    return {\n",
    "        \"memory\": max(list(map(lambda result: result.memory.max, benchmark_firsts_list))),\n",
    "        \"disk_read\": max(list(map(lambda result: result.disk.read_chars, benchmark_firsts_list))),\n",
    "        \"disk_write\": max(list(map(lambda result: result.disk.write_chars, benchmark_firsts_list))),\n",
    "        \"runtime\": sum(list(map(lambda result: result.process.execution_time, benchmark_firsts_list)))\n",
    "    }\n",
    "\n",
    "def sampling_func(sample_size):\n",
    "    # Copy files we want to be part of the sample\n",
    "    # from inputs to cobs-data/samples/ and return their path\n",
    "    samples = input_samples[:sample_size]\n",
    "    return samples\n",
    "\n",
    "num_cores = 8\n",
    "\n",
    "assemble_command = {\n",
    "    \"command\": \"SKESA/skesa --fastq input/%_1.fastq.gz,input/%_2.fastq.gz --cores \" + str(num_cores) + \" --contigs_out outputs/%.fasta\",\n",
    "    \"parallel_args\": \"-j 1 -I%\"\n",
    "}\n",
    "\n",
    "# active_output_print: prints stdout and stderr on every iteration\n",
    "multibench_results, debug_str = multi_cmdbench({\n",
    "\"assemble\": [assemble_command]\n",
    "}, reset_func = reset_func, iterations = 10, sampling_func = sampling_func, sample_sizes = sample_sizes, \n",
    "    benchmark_list_to_results = benchmark_list_to_results, active_output_print = False, progress_bar = True)\n"
   ]
  },
  {
   "cell_type": "code",
   "execution_count": 7,
   "metadata": {},
   "outputs": [],
   "source": [
    "save_path = \"multibench_results.txt\"\n",
    "\n",
    "samples_per_sample_size = []\n",
    "for sample_size in sample_sizes:\n",
    "        samples_per_sample_size.append(input_samples[:sample_size])\n",
    "\n",
    "save_multibench_results(multibench_results, samples_per_sample_size, save_path)"
   ]
  },
  {
   "cell_type": "code",
   "execution_count": 8,
   "metadata": {},
   "outputs": [
    {
     "name": "stdout",
     "output_type": "stream",
     "text": [
      "[['PNUSAL001024'], ['PNUSAL001024,', 'SH14-021,', 'SH14-015,', 'SH12-011'], ['PNUSAL001024,', 'SH14-021,', 'SH14-015,', 'SH12-011,', 'SH12-001,', '2014D-0068,', 'SH14-025'], ['PNUSAL001024,', 'SH14-021,', 'SH14-015,', 'SH12-011,', 'SH12-001,', '2014D-0068,', 'SH14-025,', 'D7322,', 'SH14-004,', 'MOD1_LS998'], ['PNUSAL001024,', 'SH14-021,', 'SH14-015,', 'SH12-011,', 'SH12-001,', '2014D-0068,', 'SH14-025,', 'D7322,', 'SH14-004,', 'MOD1_LS998,', '2014D-0070,', 'PNUSA000196,', 'SH14-003'], ['PNUSAL001024,', 'SH14-021,', 'SH14-015,', 'SH12-011,', 'SH12-001,', '2014D-0068,', 'SH14-025,', 'D7322,', 'SH14-004,', 'MOD1_LS998,', '2014D-0070,', 'PNUSA000196,', 'SH14-003,', 'SH12-012,', 'SH10-014,', 'SH12-010'], ['PNUSAL001024,', 'SH14-021,', 'SH14-015,', 'SH12-011,', 'SH12-001,', '2014D-0068,', 'SH14-025,', 'D7322,', 'SH14-004,', 'MOD1_LS998,', '2014D-0070,', 'PNUSA000196,', 'SH14-003,', 'SH12-012,', 'SH10-014,', 'SH12-010,', 'PNUSAL000870,', 'SH12-006,', 'D7331']]\n"
     ]
    }
   ],
   "source": [
    "read_path = \"multibench_results.txt\"\n",
    "\n",
    "multibench_results, samples_per_sample_size = read_multibench_results(read_path)\n",
    "print(samples_per_sample_size)"
   ]
  },
  {
   "cell_type": "code",
   "execution_count": 9,
   "metadata": {},
   "outputs": [],
   "source": [
    "%matplotlib inline\n",
    "import matplotlib.pyplot as plt\n",
    "plt.style.use('seaborn-whitegrid')\n",
    "import numpy as np\n",
    "from pylab import rcParams\n",
    "rcParams['figure.figsize'] = 15, 3"
   ]
  },
  {
   "cell_type": "code",
   "execution_count": 10,
   "metadata": {},
   "outputs": [
    {
     "name": "stdout",
     "output_type": "stream",
     "text": [
      "[{'runtime': 0.227, 'memory': 28970188.8, 'disk_read': 0.0, 'disk_write': 0.0}, {'runtime': 1.351, 'memory': 33706803.2, 'disk_read': 0.0, 'disk_write': 0.0}, {'runtime': 2.183, 'memory': 33575731.2, 'disk_read': 0.0, 'disk_write': 0.0}, {'runtime': 3.152, 'memory': 33651507.2, 'disk_read': 0.0, 'disk_write': 0.0}, {'runtime': 4.0, 'memory': 33603993.6, 'disk_read': 0.0, 'disk_write': 0.0}, {'runtime': 4.987, 'memory': 33556070.4, 'disk_read': 0.0, 'disk_write': 0.0}, {'runtime': 5.765, 'memory': 33662566.4, 'disk_read': 0.0, 'disk_write': 0.0}]\n"
     ]
    },
    {
     "data": {
      "image/png": "[encoded data removed]",
      "text/plain": [
       "<Figure size 1080x216 with 4 Axes>"
      ]
     },
     "metadata": {},
     "output_type": "display_data"
    }
   ],
   "source": [
    "# Indexing Plots\n",
    "plot_resources(multibench_results, sample_sizes, \"assemble\")"
   ]
  }
 ],
 "metadata": {
  "kernelspec": {
   "display_name": "bigsi_mccortex",
   "language": "python",
   "name": "bigsi_mccortex"
  },
  "language_info": {
   "codemirror_mode": {
    "name": "ipython",
    "version": 3
   },
   "file_extension": ".py",
   "mimetype": "text/x-python",
   "name": "python",
   "nbconvert_exporter": "python",
   "pygments_lexer": "ipython3",
   "version": "3.7.6"
  }
 },
 "nbformat": 4,
 "nbformat_minor": 4
}
