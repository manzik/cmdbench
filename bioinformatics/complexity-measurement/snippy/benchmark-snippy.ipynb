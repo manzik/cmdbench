{
 "cells": [
  {
   "cell_type": "code",
   "execution_count": 1,
   "metadata": {},
   "outputs": [],
   "source": [
    "%run ../../multibench.py"
   ]
  },
  {
   "cell_type": "code",
   "execution_count": 2,
   "metadata": {},
   "outputs": [],
   "source": [
    "from inspect import isfunction\n",
    "import os, sys\n",
    "import matplotlib.pyplot as plt\n",
    "import asciitable\n",
    "import sys\n",
    "import os\n",
    "import shutil\n",
    "import numpy as np\n",
    "import glob\n",
    "from shutil import copyfile\n",
    "import pathlib\n",
    "import subprocess\n",
    "\n",
    "\n",
    "# Summarize numpy array if it has more than 10 elements\n",
    "np.set_printoptions(threshold=10)\n",
    "\n",
    "def clean_if_exists(path):\n",
    "    if os.path.exists(path):\n",
    "        if(os.path.isfile(path)):\n",
    "            os.remove(path)\n",
    "        else:\n",
    "            shutil.rmtree(path)\n",
    "            os.mkdir(path)\n",
    "def get_last_n_lines(string, n):\n",
    "    return \"\\n\".join(string.split(\"\\n\")[-n:])\n",
    "def create_folder_if_doesnt_exist(path):\n",
    "    if not os.path.exists(path):\n",
    "        os.makedirs(path)\n",
    "\n",
    "# Move two upper directories, import benchmark, revert cwd\n",
    "sys.path.insert(0, os.path.dirname(os.path.abspath(pathlib.Path().absolute())) + \"/..\")"
   ]
  },
  {
   "cell_type": "code",
   "execution_count": 3,
   "metadata": {},
   "outputs": [
    {
     "name": "stdout",
     "output_type": "stream",
     "text": [
      "['2014C-3599', '2014C-3656', '2014C-3840', '2014C-3655', '2014C-3598', '2014C-3850', '2014C-3857', '2014C-3907', '2014C-3600']\n"
     ]
    }
   ],
   "source": [
    "input_samples = [os.path.basename(f) for f in glob.glob('input/*_1.fastq.gz')]\n",
    "input_samples = [f.replace('_1.fastq.gz','') for f in input_samples]\n",
    "print(input_samples)"
   ]
  },
  {
   "cell_type": "code",
   "execution_count": 4,
   "metadata": {},
   "outputs": [
    {
     "data": {
      "text/plain": [
       "[1, 4, 7, 10, 13, 16, 19]"
      ]
     },
     "execution_count": 4,
     "metadata": {},
     "output_type": "execute_result"
    }
   ],
   "source": [
    "sample_sizes = list(range(1, 20, 3))\n",
    "sample_sizes"
   ]
  },
  {
   "cell_type": "code",
   "execution_count": 5,
   "metadata": {},
   "outputs": [
    {
     "data": {
      "application/vnd.jupyter.widget-view+json": {
       "model_id": "f205deffb90c4340be22c76e71dd9879",
       "version_major": 2,
       "version_minor": 0
      },
      "text/plain": [
       "HBox(children=(FloatProgress(value=0.0, max=70.0), HTML(value='')))"
      ]
     },
     "metadata": {},
     "output_type": "display_data"
    }
   ],
   "source": [
    "reference_genome_name = \"2011C-3609\"\n",
    "\n",
    "def reset_func():\n",
    "    for folder in glob.glob(\"outputs/*\"):\n",
    "        clean_if_exists(folder)\n",
    "        os.rmdir(folder)\n",
    "    \n",
    "def benchmark_list_to_results(benchmark_firsts_list):\n",
    "    return {\n",
    "        \"memory\": max(list(map(lambda result: result.memory.max, benchmark_firsts_list))),\n",
    "        \"disk_read\": max(list(map(lambda result: result.disk.read_chars, benchmark_firsts_list))),\n",
    "        \"disk_write\": max(list(map(lambda result: result.disk.write_chars, benchmark_firsts_list))),\n",
    "        \"runtime\": sum(list(map(lambda result: result.process.execution_time, benchmark_firsts_list)))\n",
    "    }\n",
    "\n",
    "num_cores = 16\n",
    "\n",
    "def sampling_func(sample_size):\n",
    "    samples = input_samples[:sample_size]\n",
    "    \n",
    "    samples_tab_file_lines = []\n",
    "    \n",
    "\n",
    "    for sample in samples:\n",
    "        samples_tab_file_line = \"outputs/{0}\\tinput/{0}_1.fastq.gz\\tinput/{0}_2.fastq.gz\".format(sample)\n",
    "        samples_tab_file_lines.append(samples_tab_file_line)\n",
    "        \n",
    "    samples_tab_file_content = \"\\n\".join(samples_tab_file_lines)\n",
    "        \n",
    "    \n",
    "    file = open(\"samples.tab\", \"w\") \n",
    "    file.write(samples_tab_file_content) \n",
    "    file.close() \n",
    "    \n",
    "    os.system(\"snippy-multi samples.tab --ref input/2011C-3609.gbk --cpus \" + str(num_cores) + \" > snippy-commands.sh\")\n",
    "    \n",
    "    return samples\n",
    "\n",
    "snippy_multi_command = {\n",
    "    \"use_parallel\": False,\n",
    "    \"command\": \"bash snippy-commands.sh\"\n",
    "}\n",
    "\n",
    "# active_output_print: prints stdout and stderr on every iteration\n",
    "multibench_results, debug_str = multi_cmdbench({\n",
    "\"query\": [snippy_multi_command]\n",
    "}, reset_func = reset_func, iterations = 1, sampling_func = sampling_func, sample_sizes = sample_sizes, \n",
    "    benchmark_list_to_results = benchmark_list_to_results, active_output_print = False, progress_bar = True)\n"
   ]
  },
  {
   "cell_type": "code",
   "execution_count": 12,
   "metadata": {},
   "outputs": [],
   "source": [
    " # print(debug_str)"
   ]
  },
  {
   "cell_type": "code",
   "execution_count": 7,
   "metadata": {},
   "outputs": [],
   "source": [
    "save_path = \"multibench_results.txt\"\n",
    "\n",
    "samples_per_sample_size = []\n",
    "for sample_size in sample_sizes:\n",
    "        samples_per_sample_size.append(input_samples[:sample_size])\n",
    "\n",
    "save_multibench_results(multibench_results, samples_per_sample_size, save_path)"
   ]
  },
  {
   "cell_type": "code",
   "execution_count": 8,
   "metadata": {},
   "outputs": [
    {
     "name": "stdout",
     "output_type": "stream",
     "text": [
      "[['2014C-3599'], ['2014C-3599,', '2014C-3656,', '2014C-3840,', '2014C-3655'], ['2014C-3599,', '2014C-3656,', '2014C-3840,', '2014C-3655,', '2014C-3598,', '2014C-3850,', '2014C-3857'], ['2014C-3599,', '2014C-3656,', '2014C-3840,', '2014C-3655,', '2014C-3598,', '2014C-3850,', '2014C-3857,', '2014C-3907,', '2014C-3600'], ['2014C-3599,', '2014C-3656,', '2014C-3840,', '2014C-3655,', '2014C-3598,', '2014C-3850,', '2014C-3857,', '2014C-3907,', '2014C-3600'], ['2014C-3599,', '2014C-3656,', '2014C-3840,', '2014C-3655,', '2014C-3598,', '2014C-3850,', '2014C-3857,', '2014C-3907,', '2014C-3600'], ['2014C-3599,', '2014C-3656,', '2014C-3840,', '2014C-3655,', '2014C-3598,', '2014C-3850,', '2014C-3857,', '2014C-3907,', '2014C-3600']]\n"
     ]
    }
   ],
   "source": [
    "read_path = \"multibench_results.txt\"\n",
    "\n",
    "multibench_results, samples_per_sample_size = read_multibench_results(read_path)\n",
    "print(samples_per_sample_size)"
   ]
  },
  {
   "cell_type": "code",
   "execution_count": 9,
   "metadata": {},
   "outputs": [],
   "source": [
    "%matplotlib inline\n",
    "import matplotlib.pyplot as plt\n",
    "plt.style.use('seaborn-whitegrid')\n",
    "import numpy as np\n",
    "from pylab import rcParams\n",
    "rcParams['figure.figsize'] = 15, 3"
   ]
  },
  {
   "cell_type": "code",
   "execution_count": 10,
   "metadata": {},
   "outputs": [
    {
     "name": "stdout",
     "output_type": "stream",
     "text": [
      "[{'runtime': 12.95, 'memory': 542773248.0, 'disk_read': 419893083.0, 'disk_write': 176499434.0}, {'runtime': 49.16, 'memory': 542781440.0, 'disk_read': 1735930874.0, 'disk_write': 737743168.0}, {'runtime': 85.58, 'memory': 543322112.0, 'disk_read': 2929701782.0, 'disk_write': 1233248700.0}, {'runtime': 112.06, 'memory': 543580160.0, 'disk_read': 3885030206.0, 'disk_write': 1648530158.0}, {'runtime': 110.29, 'memory': 543301632.0, 'disk_read': 3885030178.0, 'disk_write': 1648349768.0}, {'runtime': 111.06, 'memory': 543318016.0, 'disk_read': 3885030114.0, 'disk_write': 1648972543.0}, {'runtime': 109.75, 'memory': 543354880.0, 'disk_read': 3885030194.0, 'disk_write': 1648825071.0}]\n"
     ]
    },
    {
     "data": {
      "image/png": "[encoded data removed]",
      "text/plain": [
       "<Figure size 1080x216 with 4 Axes>"
      ]
     },
     "metadata": {},
     "output_type": "display_data"
    }
   ],
   "source": [
    "# Typer command Plots\n",
    "plot_resources(multibench_results, sample_sizes, \"query\")"
   ]
  }
 ],
 "metadata": {
  "kernelspec": {
   "display_name": "bigsi_mccortex",
   "language": "python",
   "name": "bigsi_mccortex"
  },
  "language_info": {
   "codemirror_mode": {
    "name": "ipython",
    "version": 3
   },
   "file_extension": ".py",
   "mimetype": "text/x-python",
   "name": "python",
   "nbconvert_exporter": "python",
   "pygments_lexer": "ipython3",
   "version": "3.7.6"
  }
 },
 "nbformat": 4,
 "nbformat_minor": 4
}
